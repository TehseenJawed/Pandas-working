{
 "cells": [
  {
   "cell_type": "code",
   "execution_count": 13,
   "metadata": {},
   "outputs": [
    {
     "name": "stdout",
     "output_type": "stream",
     "text": [
      "Population | Pakistan Bureau of Statistics\n",
      "None\n",
      "Search form\n"
     ]
    },
    {
     "data": {
      "text/plain": [
       "None"
      ]
     },
     "metadata": {},
     "output_type": "display_data"
    }
   ],
   "source": [
    "from bs4 import BeautifulSoup\n",
    "import requests\n",
    "with open('data.html') as html_file:\n",
    "\tsoup = BeautifulSoup(html_file, 'lxml')\n",
    "\n",
    "#print(soup.prettify())\n",
    "title=soup.title.text\n",
    "print(title)\n",
    "match = soup.div\n",
    "match = soup.find('div', class_='footer')\n",
    "print(match)\n",
    "\n",
    "article=soup.find('div',class_='block-content')\n",
    "print(article.h2.text)\n",
    "display(article.p)"
   ]
  },
  {
   "cell_type": "code",
   "execution_count": 39,
   "metadata": {},
   "outputs": [
    {
     "name": "stdout",
     "output_type": "stream",
     "text": [
      "0                                                    \\n\n",
      "1                                                  [\\n]\n",
      "2                                                    \\n\n",
      "3                                        [\\n, [[]], \\n]\n",
      "4                                                    \\n\n",
      "5     [\\n, [\\n, [\\n, <div class=\"block-content\">\\n<f...\n",
      "6                                                    \\n\n",
      "7     [\\n, [\\n, [\\n, <nav class=\"breadcrumb\" role=\"n...\n",
      "8                                               /#main \n",
      "9                                                    \\n\n",
      "10    [\\n, [\\n, [\\n, <div class=\"block-content\">\\n<d...\n",
      "11                                                   \\n\n",
      "12    [\\n, [\\n, [\\n, <p>Pakistan Bureau of Statistic...\n",
      "13                                                   \\n\n",
      "dtype: object\n"
     ]
    },
    {
     "ename": "KeyError",
     "evalue": "0",
     "output_type": "error",
     "traceback": [
      "\u001b[1;31m---------------------------------------------------------------------------\u001b[0m",
      "\u001b[1;31mKeyError\u001b[0m                                  Traceback (most recent call last)",
      "\u001b[1;32m<ipython-input-39-502eb79093b0>\u001b[0m in \u001b[0;36m<module>\u001b[1;34m\u001b[0m\n\u001b[0;32m      3\u001b[0m \u001b[1;32mfor\u001b[0m \u001b[0marticle\u001b[0m \u001b[1;32min\u001b[0m \u001b[0msoup\u001b[0m\u001b[1;33m.\u001b[0m\u001b[0mfind_all\u001b[0m\u001b[1;33m(\u001b[0m\u001b[1;34m'div'\u001b[0m\u001b[1;33m)\u001b[0m\u001b[1;33m:\u001b[0m\u001b[1;33m\u001b[0m\u001b[1;33m\u001b[0m\u001b[0m\n\u001b[0;32m      4\u001b[0m     \u001b[0mh\u001b[0m\u001b[1;33m=\u001b[0m\u001b[0marticle\u001b[0m\u001b[1;33m.\u001b[0m\u001b[0mtext\u001b[0m\u001b[1;33m\u001b[0m\u001b[1;33m\u001b[0m\u001b[0m\n\u001b[1;32m----> 5\u001b[1;33m     \u001b[0mh\u001b[0m\u001b[1;33m=\u001b[0m\u001b[0mnp\u001b[0m\u001b[1;33m.\u001b[0m\u001b[0marray\u001b[0m\u001b[1;33m(\u001b[0m\u001b[0marticle\u001b[0m\u001b[1;33m)\u001b[0m\u001b[1;33m\u001b[0m\u001b[1;33m\u001b[0m\u001b[0m\n\u001b[0m\u001b[0;32m      6\u001b[0m     \u001b[0mprint\u001b[0m\u001b[1;33m(\u001b[0m\u001b[0mpd\u001b[0m\u001b[1;33m.\u001b[0m\u001b[0mSeries\u001b[0m\u001b[1;33m(\u001b[0m\u001b[0mh\u001b[0m\u001b[1;33m)\u001b[0m\u001b[1;33m)\u001b[0m\u001b[1;33m\u001b[0m\u001b[1;33m\u001b[0m\u001b[0m\n",
      "\u001b[1;32m~\\Anaconda3\\lib\\site-packages\\bs4\\element.py\u001b[0m in \u001b[0;36m__getitem__\u001b[1;34m(self, key)\u001b[0m\n\u001b[0;32m    989\u001b[0m         \"\"\"tag[key] returns the value of the 'key' attribute for the tag,\n\u001b[0;32m    990\u001b[0m         and throws an exception if it's not there.\"\"\"\n\u001b[1;32m--> 991\u001b[1;33m         \u001b[1;32mreturn\u001b[0m \u001b[0mself\u001b[0m\u001b[1;33m.\u001b[0m\u001b[0mattrs\u001b[0m\u001b[1;33m[\u001b[0m\u001b[0mkey\u001b[0m\u001b[1;33m]\u001b[0m\u001b[1;33m\u001b[0m\u001b[1;33m\u001b[0m\u001b[0m\n\u001b[0m\u001b[0;32m    992\u001b[0m \u001b[1;33m\u001b[0m\u001b[0m\n\u001b[0;32m    993\u001b[0m     \u001b[1;32mdef\u001b[0m \u001b[0m__iter__\u001b[0m\u001b[1;33m(\u001b[0m\u001b[0mself\u001b[0m\u001b[1;33m)\u001b[0m\u001b[1;33m:\u001b[0m\u001b[1;33m\u001b[0m\u001b[1;33m\u001b[0m\u001b[0m\n",
      "\u001b[1;31mKeyError\u001b[0m: 0"
     ]
    }
   ],
   "source": [
    "import pandas as pd\n",
    "import numpy as np\n",
    "for article in soup.find_all('div'):\n",
    "    h=article.text\n",
    "    h=np.array(article)\n",
    "    print(pd.Series(h))"
   ]
  },
  {
   "cell_type": "code",
   "execution_count": 67,
   "metadata": {},
   "outputs": [
    {
     "name": "stdout",
     "output_type": "stream",
     "text": [
      "<article class=\"post-1670 post type-post status-publish format-standard has-post-thumbnail category-development category-python tag-gzip tag-shutil tag-zip tag-zipfile entry\" itemscope=\"\" itemtype=\"https://schema.org/CreativeWork\">\n",
      " <header class=\"entry-header\">\n",
      "  <h2 class=\"entry-title\" itemprop=\"headline\">\n",
      "   <a class=\"entry-title-link\" href=\"https://coreyms.com/development/python/python-tutorial-zip-files-creating-and-extracting-zip-archives\" rel=\"bookmark\">\n",
      "    Python Tutorial: Zip Files – Creating and Extracting Zip Archives\n",
      "   </a>\n",
      "  </h2>\n",
      "  <p class=\"entry-meta\">\n",
      "   <time class=\"entry-time\" datetime=\"2019-11-19T13:02:37-05:00\" itemprop=\"datePublished\">\n",
      "    November 19, 2019\n",
      "   </time>\n",
      "   by\n",
      "   <span class=\"entry-author\" itemprop=\"author\" itemscope=\"\" itemtype=\"https://schema.org/Person\">\n",
      "    <a class=\"entry-author-link\" href=\"https://coreyms.com/author/coreymschafer\" itemprop=\"url\" rel=\"author\">\n",
      "     <span class=\"entry-author-name\" itemprop=\"name\">\n",
      "      Corey Schafer\n",
      "     </span>\n",
      "    </a>\n",
      "   </span>\n",
      "   <span class=\"entry-comments-link\">\n",
      "    <a href=\"https://coreyms.com/development/python/python-tutorial-zip-files-creating-and-extracting-zip-archives#respond\">\n",
      "     <span class=\"dsq-postid\" data-dsqidentifier=\"1670 http://coreyms.com/?p=1670\">\n",
      "      Leave a Comment\n",
      "     </span>\n",
      "    </a>\n",
      "   </span>\n",
      "  </p>\n",
      " </header>\n",
      " <div class=\"entry-content\" itemprop=\"text\">\n",
      "  <p>\n",
      "   In this video, we will be learning how to create and extract zip archives. We will start by using the zipfile module, and then we will see how to do this using the shutil module. We will learn how to do this with single files and directories, as well as learning how to use gzip as well. Let’s get started…\n",
      "   <br/>\n",
      "  </p>\n",
      "  <iframe allow=\"accelerometer; autoplay; encrypted-media; gyroscope; picture-in-picture\" allowfullscreen=\"\" frameborder=\"0\" height=\"315\" src=\"https://www.youtube.com/embed/z0gguhEmWiY\" width=\"560\">\n",
      "  </iframe>\n",
      " </div>\n",
      " <footer class=\"entry-footer\">\n",
      "  <p class=\"entry-meta\">\n",
      "   <span class=\"entry-categories\">\n",
      "    Filed Under:\n",
      "    <a href=\"https://coreyms.com/category/development\" rel=\"category tag\">\n",
      "     Development\n",
      "    </a>\n",
      "    ,\n",
      "    <a href=\"https://coreyms.com/category/development/python\" rel=\"category tag\">\n",
      "     Python\n",
      "    </a>\n",
      "   </span>\n",
      "   <span class=\"entry-tags\">\n",
      "    Tagged With:\n",
      "    <a href=\"https://coreyms.com/tag/gzip\" rel=\"tag\">\n",
      "     gzip\n",
      "    </a>\n",
      "    ,\n",
      "    <a href=\"https://coreyms.com/tag/shutil\" rel=\"tag\">\n",
      "     shutil\n",
      "    </a>\n",
      "    ,\n",
      "    <a href=\"https://coreyms.com/tag/zip\" rel=\"tag\">\n",
      "     zip\n",
      "    </a>\n",
      "    ,\n",
      "    <a href=\"https://coreyms.com/tag/zipfile\" rel=\"tag\">\n",
      "     zipfile\n",
      "    </a>\n",
      "   </span>\n",
      "  </p>\n",
      " </footer>\n",
      "</article>\n",
      "\n"
     ]
    }
   ],
   "source": [
    "from bs4 import BeautifulSoup\n",
    "import requests\n",
    "source= requests.get('https://coreyms.com').text\n",
    "soup= BeautifulSoup(source, 'lxml')\n",
    "article=soup.find('article')\n",
    "print(article.prettify())\n"
   ]
  },
  {
   "cell_type": "code",
   "execution_count": 68,
   "metadata": {},
   "outputs": [
    {
     "name": "stdout",
     "output_type": "stream",
     "text": [
      "In this video, we will be learning how to create and extract zip archives. We will start by using the zipfile module, and then we will see how to do this using the shutil module. We will learn how to do this with single files and directories, as well as learning how to use gzip as well. Let’s get started…\n"
     ]
    }
   ],
   "source": [
    "summary=article.find('div',class_='entry-content').p.text\n",
    "print(summary)"
   ]
  },
  {
   "cell_type": "code",
   "execution_count": 83,
   "metadata": {},
   "outputs": [
    {
     "name": "stdout",
     "output_type": "stream",
     "text": [
      "www.youtube,com/watch?v=z0gguhEmWiY\n"
     ]
    }
   ],
   "source": [
    "vid_src= article.find('iframe')['src']\n",
    "#print(vid_src)\n",
    "\n",
    "vid_id=vid_src.split('/')[4]\n",
    "link=f'www.youtube,com/watch?v={vid_id}'\n",
    "print(link)"
   ]
  },
  {
   "cell_type": "code",
   "execution_count": 103,
   "metadata": {},
   "outputs": [
    {
     "name": "stdout",
     "output_type": "stream",
     "text": [
      "Python Tutorial: Zip Files – Creating and Extracting Zip Archives\n",
      "In this video, we will be learning how to create and extract zip archives. We will start by using the zipfile module, and then we will see how to do this using the shutil module. We will learn how to do this with single files and directories, as well as learning how to use gzip as well. Let’s get started…\n",
      "www.youtube,com/watch?v=embed\n",
      "\n",
      "Python Data Science Tutorial: Analyzing the 2019 Stack Overflow Developer Survey\n",
      "In this Python Programming video, we will be learning how to download and analyze real-world data from the 2019 Stack Overflow Developer Survey. This is terrific practice for anyone getting into the data science field. We will learn different ways to analyze this data and also some best practices. Let’s get started…\n"
     ]
    },
    {
     "ename": "TypeError",
     "evalue": "'NoneType' object is not subscriptable",
     "output_type": "error",
     "traceback": [
      "\u001b[1;31m---------------------------------------------------------------------------\u001b[0m",
      "\u001b[1;31mTypeError\u001b[0m                                 Traceback (most recent call last)",
      "\u001b[1;32m<ipython-input-103-324116a4fd47>\u001b[0m in \u001b[0;36m<module>\u001b[1;34m\u001b[0m\n\u001b[0;32m      7\u001b[0m     \u001b[0mprint\u001b[0m\u001b[1;33m(\u001b[0m\u001b[0msummary\u001b[0m\u001b[1;33m)\u001b[0m\u001b[1;33m\u001b[0m\u001b[1;33m\u001b[0m\u001b[0m\n\u001b[0;32m      8\u001b[0m \u001b[1;33m\u001b[0m\u001b[0m\n\u001b[1;32m----> 9\u001b[1;33m     \u001b[0mvid_src\u001b[0m\u001b[1;33m=\u001b[0m \u001b[0marticles\u001b[0m\u001b[1;33m.\u001b[0m\u001b[0mfind\u001b[0m\u001b[1;33m(\u001b[0m\u001b[1;34m'iframe'\u001b[0m\u001b[1;33m)\u001b[0m\u001b[1;33m[\u001b[0m\u001b[1;34m'src'\u001b[0m\u001b[1;33m]\u001b[0m\u001b[1;33m\u001b[0m\u001b[1;33m\u001b[0m\u001b[0m\n\u001b[0m\u001b[0;32m     10\u001b[0m     \u001b[0mvid_id\u001b[0m\u001b[1;33m=\u001b[0m \u001b[0mvid_src\u001b[0m\u001b[1;33m.\u001b[0m\u001b[0msplit\u001b[0m\u001b[1;33m(\u001b[0m\u001b[1;34m'/'\u001b[0m\u001b[1;33m)\u001b[0m\u001b[1;33m[\u001b[0m\u001b[1;36m3\u001b[0m\u001b[1;33m]\u001b[0m\u001b[1;33m\u001b[0m\u001b[1;33m\u001b[0m\u001b[0m\n\u001b[0;32m     11\u001b[0m     \u001b[0mlink\u001b[0m\u001b[1;33m=\u001b[0m\u001b[1;34mf'www.youtube,com/watch?v={vid_id}'\u001b[0m\u001b[1;33m\u001b[0m\u001b[1;33m\u001b[0m\u001b[0m\n",
      "\u001b[1;31mTypeError\u001b[0m: 'NoneType' object is not subscriptable"
     ]
    }
   ],
   "source": [
    "for articles in soup.find_all('article'):\n",
    "    \n",
    "    headline = articles.h2.a.text\n",
    "    print(headline)\n",
    "    \n",
    "    summary= articles.find('div').p.text\n",
    "    print(summary)\n",
    "    \n",
    "    vid_src= articles.find('iframe')['src']\n",
    "    vid_id= vid_src.split('/')[4]\n",
    "    link=f'www.youtube,com/watch?v={vid_id}'\n",
    "    print(link)\n",
    "    print( )"
   ]
  },
  {
   "cell_type": "code",
   "execution_count": null,
   "metadata": {},
   "outputs": [],
   "source": []
  },
  {
   "cell_type": "code",
   "execution_count": null,
   "metadata": {},
   "outputs": [],
   "source": []
  }
 ],
 "metadata": {
  "kernelspec": {
   "display_name": "Python 3",
   "language": "python",
   "name": "python3"
  },
  "language_info": {
   "codemirror_mode": {
    "name": "ipython",
    "version": 3
   },
   "file_extension": ".py",
   "mimetype": "text/x-python",
   "name": "python",
   "nbconvert_exporter": "python",
   "pygments_lexer": "ipython3",
   "version": "3.7.3"
  }
 },
 "nbformat": 4,
 "nbformat_minor": 2
}
